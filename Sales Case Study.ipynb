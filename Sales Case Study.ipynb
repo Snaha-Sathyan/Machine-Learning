{
 "cells": [
  {
   "cell_type": "code",
   "execution_count": 1,
   "metadata": {},
   "outputs": [],
   "source": [
    "import pandas as pd\n",
    "import numpy as np\n",
    "import matplotlib.pyplot as plt\n",
    "from matplotlib import rcParams\n",
    "from matplotlib.cm import rainbow\n",
    "%matplotlib inline\n",
    "import seaborn as sns; sns.set()\n",
    "sns.set(style=\"ticks\")\n",
    "from pprint import pprint\n",
    "import seaborn as sns\n",
    "from sklearn import preprocessing\n",
    "from sklearn.metrics import roc_curve\n",
    "from sklearn import metrics\n",
    "from sklearn.metrics import precision_recall_curve,average_precision_score\n",
    "from sklearn.metrics import precision_score,recall_score,f1_score,roc_auc_score,accuracy_score"
   ]
  },
  {
   "cell_type": "code",
   "execution_count": 2,
   "metadata": {},
   "outputs": [],
   "source": [
    "data=pd.read_csv(\"C:/Users/Sneha/Desktop/Datasets/sales_data.csv\")"
   ]
  },
  {
   "cell_type": "code",
   "execution_count": 3,
   "metadata": {},
   "outputs": [
    {
     "data": {
      "text/html": [
       "<div>\n",
       "<style scoped>\n",
       "    .dataframe tbody tr th:only-of-type {\n",
       "        vertical-align: middle;\n",
       "    }\n",
       "\n",
       "    .dataframe tbody tr th {\n",
       "        vertical-align: top;\n",
       "    }\n",
       "\n",
       "    .dataframe thead th {\n",
       "        text-align: right;\n",
       "    }\n",
       "</style>\n",
       "<table border=\"1\" class=\"dataframe\">\n",
       "  <thead>\n",
       "    <tr style=\"text-align: right;\">\n",
       "      <th></th>\n",
       "      <th>flag</th>\n",
       "      <th>gender</th>\n",
       "      <th>education</th>\n",
       "      <th>house_val</th>\n",
       "      <th>age</th>\n",
       "      <th>online</th>\n",
       "      <th>customer_psy</th>\n",
       "      <th>marriage</th>\n",
       "      <th>child</th>\n",
       "      <th>occupation</th>\n",
       "      <th>mortgage</th>\n",
       "      <th>house_owner</th>\n",
       "      <th>region</th>\n",
       "      <th>car_prob</th>\n",
       "      <th>fam_income</th>\n",
       "    </tr>\n",
       "  </thead>\n",
       "  <tbody>\n",
       "    <tr>\n",
       "      <th>0</th>\n",
       "      <td>Y</td>\n",
       "      <td>M</td>\n",
       "      <td>4. Grad</td>\n",
       "      <td>756460</td>\n",
       "      <td>1_Unk</td>\n",
       "      <td>N</td>\n",
       "      <td>B</td>\n",
       "      <td>NaN</td>\n",
       "      <td>U</td>\n",
       "      <td>Professional</td>\n",
       "      <td>1Low</td>\n",
       "      <td>NaN</td>\n",
       "      <td>Midwest</td>\n",
       "      <td>1</td>\n",
       "      <td>L</td>\n",
       "    </tr>\n",
       "    <tr>\n",
       "      <th>1</th>\n",
       "      <td>N</td>\n",
       "      <td>F</td>\n",
       "      <td>3. Bach</td>\n",
       "      <td>213171</td>\n",
       "      <td>7_&gt;65</td>\n",
       "      <td>N</td>\n",
       "      <td>E</td>\n",
       "      <td>NaN</td>\n",
       "      <td>U</td>\n",
       "      <td>Professional</td>\n",
       "      <td>1Low</td>\n",
       "      <td>Owner</td>\n",
       "      <td>Northeast</td>\n",
       "      <td>3</td>\n",
       "      <td>G</td>\n",
       "    </tr>\n",
       "    <tr>\n",
       "      <th>2</th>\n",
       "      <td>N</td>\n",
       "      <td>M</td>\n",
       "      <td>2. Some College</td>\n",
       "      <td>111147</td>\n",
       "      <td>2_&lt;=25</td>\n",
       "      <td>Y</td>\n",
       "      <td>C</td>\n",
       "      <td>NaN</td>\n",
       "      <td>Y</td>\n",
       "      <td>Professional</td>\n",
       "      <td>1Low</td>\n",
       "      <td>Owner</td>\n",
       "      <td>Midwest</td>\n",
       "      <td>1</td>\n",
       "      <td>J</td>\n",
       "    </tr>\n",
       "    <tr>\n",
       "      <th>3</th>\n",
       "      <td>Y</td>\n",
       "      <td>M</td>\n",
       "      <td>2. Some College</td>\n",
       "      <td>354151</td>\n",
       "      <td>2_&lt;=25</td>\n",
       "      <td>Y</td>\n",
       "      <td>B</td>\n",
       "      <td>Single</td>\n",
       "      <td>U</td>\n",
       "      <td>Sales/Service</td>\n",
       "      <td>1Low</td>\n",
       "      <td>NaN</td>\n",
       "      <td>West</td>\n",
       "      <td>2</td>\n",
       "      <td>L</td>\n",
       "    </tr>\n",
       "    <tr>\n",
       "      <th>4</th>\n",
       "      <td>Y</td>\n",
       "      <td>F</td>\n",
       "      <td>2. Some College</td>\n",
       "      <td>117087</td>\n",
       "      <td>1_Unk</td>\n",
       "      <td>Y</td>\n",
       "      <td>J</td>\n",
       "      <td>Married</td>\n",
       "      <td>Y</td>\n",
       "      <td>Sales/Service</td>\n",
       "      <td>1Low</td>\n",
       "      <td>NaN</td>\n",
       "      <td>South</td>\n",
       "      <td>7</td>\n",
       "      <td>H</td>\n",
       "    </tr>\n",
       "  </tbody>\n",
       "</table>\n",
       "</div>"
      ],
      "text/plain": [
       "  flag gender        education  house_val     age online customer_psy  \\\n",
       "0    Y      M          4. Grad     756460   1_Unk      N            B   \n",
       "1    N      F          3. Bach     213171   7_>65      N            E   \n",
       "2    N      M  2. Some College     111147  2_<=25      Y            C   \n",
       "3    Y      M  2. Some College     354151  2_<=25      Y            B   \n",
       "4    Y      F  2. Some College     117087   1_Unk      Y            J   \n",
       "\n",
       "  marriage child     occupation mortgage house_owner     region  car_prob  \\\n",
       "0      NaN     U   Professional     1Low         NaN    Midwest         1   \n",
       "1      NaN     U   Professional     1Low       Owner  Northeast         3   \n",
       "2      NaN     Y   Professional     1Low       Owner    Midwest         1   \n",
       "3   Single     U  Sales/Service     1Low         NaN       West         2   \n",
       "4  Married     Y  Sales/Service     1Low         NaN      South         7   \n",
       "\n",
       "  fam_income  \n",
       "0          L  \n",
       "1          G  \n",
       "2          J  \n",
       "3          L  \n",
       "4          H  "
      ]
     },
     "execution_count": 3,
     "metadata": {},
     "output_type": "execute_result"
    }
   ],
   "source": [
    "data.head()"
   ]
  },
  {
   "cell_type": "code",
   "execution_count": 4,
   "metadata": {},
   "outputs": [
    {
     "data": {
      "text/plain": [
       "(40000, 15)"
      ]
     },
     "execution_count": 4,
     "metadata": {},
     "output_type": "execute_result"
    }
   ],
   "source": [
    "data.shape"
   ]
  },
  {
   "cell_type": "code",
   "execution_count": 5,
   "metadata": {},
   "outputs": [
    {
     "name": "stdout",
     "output_type": "stream",
     "text": [
      "<class 'pandas.core.frame.DataFrame'>\n",
      "RangeIndex: 40000 entries, 0 to 39999\n",
      "Data columns (total 15 columns):\n",
      "flag            40000 non-null object\n",
      "gender          40000 non-null object\n",
      "education       39259 non-null object\n",
      "house_val       40000 non-null int64\n",
      "age             40000 non-null object\n",
      "online          40000 non-null object\n",
      "customer_psy    40000 non-null object\n",
      "marriage        25973 non-null object\n",
      "child           40000 non-null object\n",
      "occupation      40000 non-null object\n",
      "mortgage        40000 non-null object\n",
      "house_owner     36623 non-null object\n",
      "region          40000 non-null object\n",
      "car_prob        40000 non-null int64\n",
      "fam_income      40000 non-null object\n",
      "dtypes: int64(2), object(13)\n",
      "memory usage: 4.6+ MB\n"
     ]
    }
   ],
   "source": [
    "data.info()"
   ]
  },
  {
   "cell_type": "code",
   "execution_count": 6,
   "metadata": {},
   "outputs": [
    {
     "data": {
      "text/plain": [
       "flag                0\n",
       "gender              0\n",
       "education         741\n",
       "house_val           0\n",
       "age                 0\n",
       "online              0\n",
       "customer_psy        0\n",
       "marriage        14027\n",
       "child               0\n",
       "occupation          0\n",
       "mortgage            0\n",
       "house_owner      3377\n",
       "region              0\n",
       "car_prob            0\n",
       "fam_income          0\n",
       "dtype: int64"
      ]
     },
     "execution_count": 6,
     "metadata": {},
     "output_type": "execute_result"
    }
   ],
   "source": [
    "data.isnull().sum()"
   ]
  },
  {
   "cell_type": "code",
   "execution_count": 7,
   "metadata": {},
   "outputs": [
    {
     "data": {
      "text/plain": [
       "<matplotlib.axes._subplots.AxesSubplot at 0x167ee1e1f60>"
      ]
     },
     "execution_count": 7,
     "metadata": {},
     "output_type": "execute_result"
    },
    {
     "data": {
      "image/png": "[encoded data removed]",
      "text/plain": [
       "<Figure size 432x288 with 1 Axes>"
      ]
     },
     "metadata": {
      "needs_background": "light"
     },
     "output_type": "display_data"
    }
   ],
   "source": [
    "sns.heatmap(data.isnull(), cbar=False)"
   ]
  },
  {
   "cell_type": "code",
   "execution_count": 8,
   "metadata": {},
   "outputs": [
    {
     "data": {
      "text/plain": [
       "flag             0.0000\n",
       "gender           0.0000\n",
       "education        1.8525\n",
       "house_val        0.0000\n",
       "age              0.0000\n",
       "online           0.0000\n",
       "customer_psy     0.0000\n",
       "marriage        35.0675\n",
       "child            0.0000\n",
       "occupation       0.0000\n",
       "mortgage         0.0000\n",
       "house_owner      8.4425\n",
       "region           0.0000\n",
       "car_prob         0.0000\n",
       "fam_income       0.0000\n",
       "dtype: float64"
      ]
     },
     "execution_count": 8,
     "metadata": {},
     "output_type": "execute_result"
    }
   ],
   "source": [
    "data.isnull().sum()/len(data)*100"
   ]
  },
  {
   "cell_type": "code",
   "execution_count": 9,
   "metadata": {},
   "outputs": [
    {
     "name": "stdout",
     "output_type": "stream",
     "text": [
      "flag ['Y' 'N']\n",
      "gender ['M' 'F' 'U']\n",
      "education ['4. Grad' '3. Bach' '2. Some College' '1. HS' '0. <HS' nan]\n",
      "house_val [756460 213171 111147 ... 120630 603554 213596]\n",
      "age ['1_Unk' '7_>65' '2_<=25' '6_<=65' '5_<=55' '4_<=45' '3_<=35']\n",
      "online ['N' 'Y']\n",
      "customer_psy ['B' 'E' 'C' 'J' 'A' 'G' 'F' 'I' 'D' 'H' 'U']\n",
      "marriage [nan 'Single' 'Married']\n",
      "child ['U' 'Y' 'N' '0']\n",
      "occupation ['Professional' 'Sales/Service' 'Blue Collar' 'Others' 'Retired' 'Farm']\n",
      "mortgage ['1Low' '2Med' '3High']\n",
      "house_owner [nan 'Owner' 'Renter']\n",
      "region ['Midwest' 'Northeast' 'West' 'South' 'Rest']\n",
      "car_prob [1 3 2 7 5 6 9 8 4 0]\n",
      "fam_income ['L' 'G' 'J' 'H' 'C' 'I' 'D' 'E' 'A' 'F' 'B' 'K' 'U']\n"
     ]
    }
   ],
   "source": [
    "for cat in data.columns:\n",
    "    print(cat, data[cat].unique())"
   ]
  },
  {
   "cell_type": "code",
   "execution_count": 10,
   "metadata": {},
   "outputs": [],
   "source": [
    "#On education\n",
    "data.replace('0. <HS', 'dropout', inplace=True)\n",
    "data.replace('1. HS', 'hs', inplace=True)\n",
    "data.replace('2. Some College', 'associates', inplace=True)\n",
    "data.replace('3. Bach', 'bachelors', inplace=True)\n",
    "data.replace('4. Grad', 'masters', inplace=True)\n",
    "#On age\n",
    "data.replace('1_Unk', 'Unknown', inplace=True)\n",
    "data.replace('2_<=25', '0-25', inplace=True)\n",
    "data.replace('3_<=35', '25-35', inplace=True)\n",
    "data.replace('4_<=45', '35-45', inplace=True)\n",
    "data.replace('5_<=55', '45-55', inplace=True)\n",
    "data.replace('6_<=65', '55-65', inplace=True)\n",
    "data.replace('7_>65', '>65', inplace=True)\n",
    "#On mortgage\n",
    "data.replace('1Low', 'low', inplace=True)\n",
    "data.replace('2Med', 'medium', inplace=True)\n",
    "data.replace('3High', 'high', inplace=True)\n",
    "#On child\n",
    "data.replace('U', 'None', inplace=True)\n",
    "data.replace('0', 'None', inplace=True)\n",
    "#On gender\n",
    "data.replace('U', 'Unknown', inplace=True)\n",
    "#Car_prob\n",
    "data['car_prob']=data['car_prob'].replace(to_replace=1,value=1.0)\n",
    "data['car_prob']=data['car_prob'].replace(to_replace=2,value=.9)\n",
    "data['car_prob']=data['car_prob'].replace(to_replace=3,value=.8)\n",
    "data['car_prob']=data['car_prob'].replace(to_replace=4,value=.7)\n",
    "data['car_prob']=data['car_prob'].replace(to_replace=5,value=.6)\n",
    "data['car_prob']=data['car_prob'].replace(to_replace=6,value=.5)\n",
    "data['car_prob']=data['car_prob'].replace(to_replace=7,value=.4)\n",
    "data['car_prob']=data['car_prob'].replace(to_replace=8,value=.3)\n",
    "data['car_prob']=data['car_prob'].replace(to_replace=9,value=.2)\n",
    "data['car_prob']=data['car_prob'].replace(to_replace=0,value=.1)"
   ]
  },
  {
   "cell_type": "code",
   "execution_count": 11,
   "metadata": {},
   "outputs": [],
   "source": [
    "#Filling missing values\n",
    "data['education'].fillna('None', inplace=True)\n",
    "data['marriage'].fillna('Unmarried', inplace=True)\n",
    "data['house_owner'].fillna('Homeless', inplace=True)"
   ]
  },
  {
   "cell_type": "code",
   "execution_count": 12,
   "metadata": {},
   "outputs": [
    {
     "data": {
      "text/plain": [
       "flag            0.0\n",
       "gender          0.0\n",
       "education       0.0\n",
       "house_val       0.0\n",
       "age             0.0\n",
       "online          0.0\n",
       "customer_psy    0.0\n",
       "marriage        0.0\n",
       "child           0.0\n",
       "occupation      0.0\n",
       "mortgage        0.0\n",
       "house_owner     0.0\n",
       "region          0.0\n",
       "car_prob        0.0\n",
       "fam_income      0.0\n",
       "dtype: float64"
      ]
     },
     "execution_count": 12,
     "metadata": {},
     "output_type": "execute_result"
    }
   ],
   "source": [
    "data.isnull().sum()/len(data)*100"
   ]
  },
  {
   "cell_type": "code",
   "execution_count": 13,
   "metadata": {},
   "outputs": [
    {
     "name": "stdout",
     "output_type": "stream",
     "text": [
      "flag ['Y' 'N']\n",
      "gender ['M' 'F' 'None']\n",
      "education ['masters' 'bachelors' 'associates' 'hs' 'dropout' 'None']\n",
      "house_val [756460 213171 111147 ... 120630 603554 213596]\n",
      "age ['Unknown' '>65' '0-25' '55-65' '45-55' '35-45' '25-35']\n",
      "online ['N' 'Y']\n",
      "customer_psy ['B' 'E' 'C' 'J' 'A' 'G' 'F' 'I' 'D' 'H' 'None']\n",
      "marriage ['Unmarried' 'Single' 'Married']\n",
      "child ['None' 'Y' 'N']\n",
      "occupation ['Professional' 'Sales/Service' 'Blue Collar' 'Others' 'Retired' 'Farm']\n",
      "mortgage ['low' 'medium' 'high']\n",
      "house_owner ['Homeless' 'Owner' 'Renter']\n",
      "region ['Midwest' 'Northeast' 'West' 'South' 'Rest']\n",
      "car_prob [1.  0.8 0.9 0.4 0.6 0.5 0.2 0.3 0.7 0.1]\n",
      "fam_income ['L' 'G' 'J' 'H' 'C' 'I' 'D' 'E' 'A' 'F' 'B' 'K' 'None']\n"
     ]
    }
   ],
   "source": [
    "for cat in data.columns:\n",
    "    print(cat, data[cat].unique())"
   ]
  },
  {
   "cell_type": "code",
   "execution_count": 14,
   "metadata": {},
   "outputs": [
    {
     "data": {
      "text/html": [
       "<div>\n",
       "<style scoped>\n",
       "    .dataframe tbody tr th:only-of-type {\n",
       "        vertical-align: middle;\n",
       "    }\n",
       "\n",
       "    .dataframe tbody tr th {\n",
       "        vertical-align: top;\n",
       "    }\n",
       "\n",
       "    .dataframe thead th {\n",
       "        text-align: right;\n",
       "    }\n",
       "</style>\n",
       "<table border=\"1\" class=\"dataframe\">\n",
       "  <thead>\n",
       "    <tr style=\"text-align: right;\">\n",
       "      <th></th>\n",
       "      <th>flag</th>\n",
       "      <th>gender</th>\n",
       "      <th>education</th>\n",
       "      <th>house_val</th>\n",
       "      <th>age</th>\n",
       "      <th>online</th>\n",
       "      <th>customer_psy</th>\n",
       "      <th>marriage</th>\n",
       "      <th>child</th>\n",
       "      <th>occupation</th>\n",
       "      <th>mortgage</th>\n",
       "      <th>house_owner</th>\n",
       "      <th>region</th>\n",
       "      <th>car_prob</th>\n",
       "      <th>fam_income</th>\n",
       "    </tr>\n",
       "  </thead>\n",
       "  <tbody>\n",
       "    <tr>\n",
       "      <th>0</th>\n",
       "      <td>Y</td>\n",
       "      <td>M</td>\n",
       "      <td>masters</td>\n",
       "      <td>756460</td>\n",
       "      <td>Unknown</td>\n",
       "      <td>N</td>\n",
       "      <td>B</td>\n",
       "      <td>Unmarried</td>\n",
       "      <td>None</td>\n",
       "      <td>Professional</td>\n",
       "      <td>low</td>\n",
       "      <td>Homeless</td>\n",
       "      <td>Midwest</td>\n",
       "      <td>1.0</td>\n",
       "      <td>L</td>\n",
       "    </tr>\n",
       "    <tr>\n",
       "      <th>1</th>\n",
       "      <td>N</td>\n",
       "      <td>F</td>\n",
       "      <td>bachelors</td>\n",
       "      <td>213171</td>\n",
       "      <td>&gt;65</td>\n",
       "      <td>N</td>\n",
       "      <td>E</td>\n",
       "      <td>Unmarried</td>\n",
       "      <td>None</td>\n",
       "      <td>Professional</td>\n",
       "      <td>low</td>\n",
       "      <td>Owner</td>\n",
       "      <td>Northeast</td>\n",
       "      <td>0.8</td>\n",
       "      <td>G</td>\n",
       "    </tr>\n",
       "    <tr>\n",
       "      <th>2</th>\n",
       "      <td>N</td>\n",
       "      <td>M</td>\n",
       "      <td>associates</td>\n",
       "      <td>111147</td>\n",
       "      <td>0-25</td>\n",
       "      <td>Y</td>\n",
       "      <td>C</td>\n",
       "      <td>Unmarried</td>\n",
       "      <td>Y</td>\n",
       "      <td>Professional</td>\n",
       "      <td>low</td>\n",
       "      <td>Owner</td>\n",
       "      <td>Midwest</td>\n",
       "      <td>1.0</td>\n",
       "      <td>J</td>\n",
       "    </tr>\n",
       "    <tr>\n",
       "      <th>3</th>\n",
       "      <td>Y</td>\n",
       "      <td>M</td>\n",
       "      <td>associates</td>\n",
       "      <td>354151</td>\n",
       "      <td>0-25</td>\n",
       "      <td>Y</td>\n",
       "      <td>B</td>\n",
       "      <td>Single</td>\n",
       "      <td>None</td>\n",
       "      <td>Sales/Service</td>\n",
       "      <td>low</td>\n",
       "      <td>Homeless</td>\n",
       "      <td>West</td>\n",
       "      <td>0.9</td>\n",
       "      <td>L</td>\n",
       "    </tr>\n",
       "    <tr>\n",
       "      <th>4</th>\n",
       "      <td>Y</td>\n",
       "      <td>F</td>\n",
       "      <td>associates</td>\n",
       "      <td>117087</td>\n",
       "      <td>Unknown</td>\n",
       "      <td>Y</td>\n",
       "      <td>J</td>\n",
       "      <td>Married</td>\n",
       "      <td>Y</td>\n",
       "      <td>Sales/Service</td>\n",
       "      <td>low</td>\n",
       "      <td>Homeless</td>\n",
       "      <td>South</td>\n",
       "      <td>0.4</td>\n",
       "      <td>H</td>\n",
       "    </tr>\n",
       "  </tbody>\n",
       "</table>\n",
       "</div>"
      ],
      "text/plain": [
       "  flag gender   education  house_val      age online customer_psy   marriage  \\\n",
       "0    Y      M     masters     756460  Unknown      N            B  Unmarried   \n",
       "1    N      F   bachelors     213171      >65      N            E  Unmarried   \n",
       "2    N      M  associates     111147     0-25      Y            C  Unmarried   \n",
       "3    Y      M  associates     354151     0-25      Y            B     Single   \n",
       "4    Y      F  associates     117087  Unknown      Y            J    Married   \n",
       "\n",
       "  child     occupation mortgage house_owner     region  car_prob fam_income  \n",
       "0  None   Professional      low    Homeless    Midwest       1.0          L  \n",
       "1  None   Professional      low       Owner  Northeast       0.8          G  \n",
       "2     Y   Professional      low       Owner    Midwest       1.0          J  \n",
       "3  None  Sales/Service      low    Homeless       West       0.9          L  \n",
       "4     Y  Sales/Service      low    Homeless      South       0.4          H  "
      ]
     },
     "execution_count": 14,
     "metadata": {},
     "output_type": "execute_result"
    }
   ],
   "source": [
    "data.head()"
   ]
  },
  {
   "cell_type": "code",
   "execution_count": 15,
   "metadata": {},
   "outputs": [
    {
     "name": "stdout",
     "output_type": "stream",
     "text": [
      "N    20000\n",
      "Y    20000\n",
      "Name: flag, dtype: int64\n"
     ]
    },
    {
     "data": {
      "text/plain": [
       "<matplotlib.axes._subplots.AxesSubplot at 0x167ee2b67b8>"
      ]
     },
     "execution_count": 15,
     "metadata": {},
     "output_type": "execute_result"
    },
    {
     "data": {
      "image/png": "[encoded data removed]",
      "text/plain": [
       "<Figure size 720x360 with 1 Axes>"
      ]
     },
     "metadata": {
      "needs_background": "light"
     },
     "output_type": "display_data"
    }
   ],
   "source": [
    "print(data['flag'].value_counts())\n",
    "plt.figure(figsize=(10,5))\n",
    "sns.countplot(x='flag',data=data)"
   ]
  },
  {
   "cell_type": "code",
   "execution_count": 16,
   "metadata": {},
   "outputs": [
    {
     "data": {
      "text/plain": [
       "<matplotlib.axes._subplots.AxesSubplot at 0x167ee3d90f0>"
      ]
     },
     "execution_count": 16,
     "metadata": {},
     "output_type": "execute_result"
    },
    {
     "data": {
      "image/png": "[encoded data removed]",
      "text/plain": [
       "<Figure size 1152x432 with 3 Axes>"
      ]
     },
     "metadata": {
      "needs_background": "light"
     },
     "output_type": "display_data"
    }
   ],
   "source": [
    "# Age Variable \n",
    "f,ax=plt.subplots(1,3,figsize=(16,6))\n",
    "sns.countplot(x='gender',hue='flag',data=data,ax=ax[0])\n",
    "sns.countplot(x='online',hue='flag',data=data,ax=ax[1])\n",
    "sns.countplot(x='marriage',hue='flag',data=data,ax=ax[2])"
   ]
  },
  {
   "cell_type": "code",
   "execution_count": 17,
   "metadata": {},
   "outputs": [
    {
     "data": {
      "text/plain": [
       "<matplotlib.axes._subplots.AxesSubplot at 0x167ee4e4be0>"
      ]
     },
     "execution_count": 17,
     "metadata": {},
     "output_type": "execute_result"
    },
    {
     "data": {
      "image/png": "[encoded data removed]",
      "text/plain": [
       "<Figure size 720x576 with 1 Axes>"
      ]
     },
     "metadata": {
      "needs_background": "light"
     },
     "output_type": "display_data"
    }
   ],
   "source": [
    "plt.figure(figsize=(10,8))\n",
    "sns.distplot(data['house_val'])"
   ]
  },
  {
   "cell_type": "code",
   "execution_count": 18,
   "metadata": {},
   "outputs": [
    {
     "data": {
      "image/png": "[encoded data removed]",
      "text/plain": [
       "<Figure size 936x432 with 2 Axes>"
      ]
     },
     "metadata": {
      "needs_background": "light"
     },
     "output_type": "display_data"
    }
   ],
   "source": [
    "f, (ax_box, ax_hist) = plt.subplots(2, sharex=True, \n",
    "                                    gridspec_kw={\"height_ratios\": (.15, .85)},\n",
    "                                   figsize=(13,6))\n",
    "\n",
    "sns.boxplot(data['house_val'], ax=ax_box)\n",
    "sns.distplot(data['house_val'], ax=ax_hist)\n",
    "\n",
    "ax_box.set(yticks=[])\n",
    "sns.despine(ax=ax_hist)\n",
    "sns.despine(ax=ax_box, left=True)"
   ]
  },
  {
   "cell_type": "code",
   "execution_count": 19,
   "metadata": {},
   "outputs": [
    {
     "data": {
      "text/plain": [
       "<matplotlib.axes._subplots.AxesSubplot at 0x167ee4f6898>"
      ]
     },
     "execution_count": 19,
     "metadata": {},
     "output_type": "execute_result"
    },
    {
     "data": {
      "image/png": "[encoded data removed]",
      "text/plain": [
       "<Figure size 720x576 with 1 Axes>"
      ]
     },
     "metadata": {
      "needs_background": "light"
     },
     "output_type": "display_data"
    }
   ],
   "source": [
    "plt.figure(figsize=(10,8))\n",
    "sns.countplot(x='occupation',hue='flag',data=data)"
   ]
  },
  {
   "cell_type": "code",
   "execution_count": 20,
   "metadata": {},
   "outputs": [
    {
     "data": {
      "text/plain": [
       "<seaborn.axisgrid.FacetGrid at 0x167ef03deb8>"
      ]
     },
     "execution_count": 20,
     "metadata": {},
     "output_type": "execute_result"
    },
    {
     "data": {
      "image/png": "[encoded data removed]",
      "text/plain": [
       "<Figure size 767.6x360 with 1 Axes>"
      ]
     },
     "metadata": {
      "needs_background": "light"
     },
     "output_type": "display_data"
    }
   ],
   "source": [
    "sns.catplot(x='occupation',hue='flag',y='house_val',kind=\"bar\",data=data,aspect=2)"
   ]
  },
  {
   "cell_type": "code",
   "execution_count": 21,
   "metadata": {},
   "outputs": [
    {
     "data": {
      "text/plain": [
       "<seaborn.axisgrid.FacetGrid at 0x167f1eb0908>"
      ]
     },
     "execution_count": 21,
     "metadata": {},
     "output_type": "execute_result"
    },
    {
     "data": {
      "image/png": "[encoded data removed]",
      "text/plain": [
       "<Figure size 767.6x360 with 1 Axes>"
      ]
     },
     "metadata": {
      "needs_background": "light"
     },
     "output_type": "display_data"
    }
   ],
   "source": [
    "sns.catplot(x='occupation',hue='flag',y='car_prob',kind=\"bar\",data=data,aspect=2)"
   ]
  },
  {
   "cell_type": "code",
   "execution_count": 22,
   "metadata": {},
   "outputs": [
    {
     "data": {
      "text/plain": [
       "<matplotlib.axes._subplots.AxesSubplot at 0x167efba4cf8>"
      ]
     },
     "execution_count": 22,
     "metadata": {},
     "output_type": "execute_result"
    },
    {
     "data": {
      "image/png": "[encoded data removed]",
      "text/plain": [
       "<Figure size 432x288 with 1 Axes>"
      ]
     },
     "metadata": {
      "needs_background": "light"
     },
     "output_type": "display_data"
    }
   ],
   "source": [
    "sns.countplot(x='fam_income',hue='flag',data=data)"
   ]
  },
  {
   "cell_type": "code",
   "execution_count": 23,
   "metadata": {},
   "outputs": [
    {
     "name": "stdout",
     "output_type": "stream",
     "text": [
      "Y       18012\n",
      "N       13333\n",
      "None     8655\n",
      "Name: child, dtype: int64\n"
     ]
    },
    {
     "data": {
      "text/plain": [
       "<matplotlib.axes._subplots.AxesSubplot at 0x167efb7cf98>"
      ]
     },
     "execution_count": 23,
     "metadata": {},
     "output_type": "execute_result"
    },
    {
     "data": {
      "image/png": "[encoded data removed]",
      "text/plain": [
       "<Figure size 432x288 with 1 Axes>"
      ]
     },
     "metadata": {
      "needs_background": "light"
     },
     "output_type": "display_data"
    }
   ],
   "source": [
    "print(data['child'].value_counts())\n",
    "sns.countplot(x='child',hue='flag',data=data)"
   ]
  },
  {
   "cell_type": "code",
   "execution_count": 24,
   "metadata": {},
   "outputs": [
    {
     "data": {
      "text/html": [
       "<div>\n",
       "<style scoped>\n",
       "    .dataframe tbody tr th:only-of-type {\n",
       "        vertical-align: middle;\n",
       "    }\n",
       "\n",
       "    .dataframe tbody tr th {\n",
       "        vertical-align: top;\n",
       "    }\n",
       "\n",
       "    .dataframe thead th {\n",
       "        text-align: right;\n",
       "    }\n",
       "</style>\n",
       "<table border=\"1\" class=\"dataframe\">\n",
       "  <thead>\n",
       "    <tr style=\"text-align: right;\">\n",
       "      <th></th>\n",
       "      <th>flag</th>\n",
       "      <th>gender</th>\n",
       "      <th>education</th>\n",
       "      <th>house_val</th>\n",
       "      <th>age</th>\n",
       "      <th>online</th>\n",
       "      <th>customer_psy</th>\n",
       "      <th>marriage</th>\n",
       "      <th>child</th>\n",
       "      <th>occupation</th>\n",
       "      <th>mortgage</th>\n",
       "      <th>house_owner</th>\n",
       "      <th>region</th>\n",
       "      <th>car_prob</th>\n",
       "      <th>fam_income</th>\n",
       "    </tr>\n",
       "  </thead>\n",
       "  <tbody>\n",
       "    <tr>\n",
       "      <th>0</th>\n",
       "      <td>Y</td>\n",
       "      <td>M</td>\n",
       "      <td>masters</td>\n",
       "      <td>756460</td>\n",
       "      <td>Unknown</td>\n",
       "      <td>N</td>\n",
       "      <td>B</td>\n",
       "      <td>Unmarried</td>\n",
       "      <td>None</td>\n",
       "      <td>Professional</td>\n",
       "      <td>low</td>\n",
       "      <td>Homeless</td>\n",
       "      <td>Midwest</td>\n",
       "      <td>1.0</td>\n",
       "      <td>L</td>\n",
       "    </tr>\n",
       "    <tr>\n",
       "      <th>1</th>\n",
       "      <td>N</td>\n",
       "      <td>F</td>\n",
       "      <td>bachelors</td>\n",
       "      <td>213171</td>\n",
       "      <td>&gt;65</td>\n",
       "      <td>N</td>\n",
       "      <td>E</td>\n",
       "      <td>Unmarried</td>\n",
       "      <td>None</td>\n",
       "      <td>Professional</td>\n",
       "      <td>low</td>\n",
       "      <td>Owner</td>\n",
       "      <td>Northeast</td>\n",
       "      <td>0.8</td>\n",
       "      <td>G</td>\n",
       "    </tr>\n",
       "    <tr>\n",
       "      <th>2</th>\n",
       "      <td>N</td>\n",
       "      <td>M</td>\n",
       "      <td>associates</td>\n",
       "      <td>111147</td>\n",
       "      <td>0-25</td>\n",
       "      <td>Y</td>\n",
       "      <td>C</td>\n",
       "      <td>Unmarried</td>\n",
       "      <td>Y</td>\n",
       "      <td>Professional</td>\n",
       "      <td>low</td>\n",
       "      <td>Owner</td>\n",
       "      <td>Midwest</td>\n",
       "      <td>1.0</td>\n",
       "      <td>J</td>\n",
       "    </tr>\n",
       "    <tr>\n",
       "      <th>3</th>\n",
       "      <td>Y</td>\n",
       "      <td>M</td>\n",
       "      <td>associates</td>\n",
       "      <td>354151</td>\n",
       "      <td>0-25</td>\n",
       "      <td>Y</td>\n",
       "      <td>B</td>\n",
       "      <td>Single</td>\n",
       "      <td>None</td>\n",
       "      <td>Sales/Service</td>\n",
       "      <td>low</td>\n",
       "      <td>Homeless</td>\n",
       "      <td>West</td>\n",
       "      <td>0.9</td>\n",
       "      <td>L</td>\n",
       "    </tr>\n",
       "    <tr>\n",
       "      <th>4</th>\n",
       "      <td>Y</td>\n",
       "      <td>F</td>\n",
       "      <td>associates</td>\n",
       "      <td>117087</td>\n",
       "      <td>Unknown</td>\n",
       "      <td>Y</td>\n",
       "      <td>J</td>\n",
       "      <td>Married</td>\n",
       "      <td>Y</td>\n",
       "      <td>Sales/Service</td>\n",
       "      <td>low</td>\n",
       "      <td>Homeless</td>\n",
       "      <td>South</td>\n",
       "      <td>0.4</td>\n",
       "      <td>H</td>\n",
       "    </tr>\n",
       "  </tbody>\n",
       "</table>\n",
       "</div>"
      ],
      "text/plain": [
       "  flag gender   education  house_val      age online customer_psy   marriage  \\\n",
       "0    Y      M     masters     756460  Unknown      N            B  Unmarried   \n",
       "1    N      F   bachelors     213171      >65      N            E  Unmarried   \n",
       "2    N      M  associates     111147     0-25      Y            C  Unmarried   \n",
       "3    Y      M  associates     354151     0-25      Y            B     Single   \n",
       "4    Y      F  associates     117087  Unknown      Y            J    Married   \n",
       "\n",
       "  child     occupation mortgage house_owner     region  car_prob fam_income  \n",
       "0  None   Professional      low    Homeless    Midwest       1.0          L  \n",
       "1  None   Professional      low       Owner  Northeast       0.8          G  \n",
       "2     Y   Professional      low       Owner    Midwest       1.0          J  \n",
       "3  None  Sales/Service      low    Homeless       West       0.9          L  \n",
       "4     Y  Sales/Service      low    Homeless      South       0.4          H  "
      ]
     },
     "execution_count": 24,
     "metadata": {},
     "output_type": "execute_result"
    }
   ],
   "source": [
    "data.head()"
   ]
  },
  {
   "cell_type": "code",
   "execution_count": 25,
   "metadata": {},
   "outputs": [],
   "source": [
    "X = data.drop(columns='flag')\n",
    "y = data['flag']\n",
    "\n",
    "le = preprocessing.LabelEncoder()\n",
    "y= le.fit_transform(y)\n",
    "X = pd.get_dummies(X,drop_first=True)"
   ]
  },
  {
   "cell_type": "code",
   "execution_count": 26,
   "metadata": {},
   "outputs": [
    {
     "name": "stdout",
     "output_type": "stream",
     "text": [
      "(28000, 55)\n",
      "(28000,)\n",
      "(12000, 55)\n",
      "(12000,)\n"
     ]
    }
   ],
   "source": [
    "from sklearn.model_selection import train_test_split\n",
    "X_train, X_test, y_train, y_test = train_test_split(X, y,\n",
    "                                                    test_size=.3,\n",
    "                                                    random_state=0)\n",
    "print(X_train.shape)\n",
    "print(y_train.shape)\n",
    "print(X_test.shape)\n",
    "print(y_test.shape)"
   ]
  },
  {
   "cell_type": "code",
   "execution_count": 27,
   "metadata": {},
   "outputs": [
    {
     "name": "stderr",
     "output_type": "stream",
     "text": [
      "C:\\ProgramData\\Anaconda3\\lib\\site-packages\\sklearn\\ensemble\\forest.py:245: FutureWarning: The default value of n_estimators will change from 10 in version 0.20 to 100 in 0.22.\n",
      "  \"10 in version 0.20 to 100 in 0.22.\", FutureWarning)\n"
     ]
    },
    {
     "data": {
      "text/plain": [
       "RandomForestClassifier(bootstrap=True, class_weight=None, criterion='gini',\n",
       "                       max_depth=None, max_features='auto', max_leaf_nodes=None,\n",
       "                       min_impurity_decrease=0.0, min_impurity_split=None,\n",
       "                       min_samples_leaf=1, min_samples_split=2,\n",
       "                       min_weight_fraction_leaf=0.0, n_estimators=10,\n",
       "                       n_jobs=None, oob_score=False, random_state=42, verbose=0,\n",
       "                       warm_start=False)"
      ]
     },
     "execution_count": 27,
     "metadata": {},
     "output_type": "execute_result"
    }
   ],
   "source": [
    "# random forests\n",
    "from sklearn.ensemble import RandomForestClassifier\n",
    "model = RandomForestClassifier(random_state = 42)\n",
    "model.fit(X_train, y_train)"
   ]
  },
  {
   "cell_type": "code",
   "execution_count": 28,
   "metadata": {},
   "outputs": [
    {
     "name": "stdout",
     "output_type": "stream",
     "text": [
      "Parameters currently in use:\n",
      "\n",
      "{'bootstrap': True,\n",
      " 'class_weight': None,\n",
      " 'criterion': 'gini',\n",
      " 'max_depth': None,\n",
      " 'max_features': 'auto',\n",
      " 'max_leaf_nodes': None,\n",
      " 'min_impurity_decrease': 0.0,\n",
      " 'min_impurity_split': None,\n",
      " 'min_samples_leaf': 1,\n",
      " 'min_samples_split': 2,\n",
      " 'min_weight_fraction_leaf': 0.0,\n",
      " 'n_estimators': 10,\n",
      " 'n_jobs': None,\n",
      " 'oob_score': False,\n",
      " 'random_state': 42,\n",
      " 'verbose': 0,\n",
      " 'warm_start': False}\n"
     ]
    }
   ],
   "source": [
    "model_pred = model.predict(X_test)\n",
    "model_probs = model.predict_proba(X_test)[:, 1]\n",
    "\n",
    "print('Parameters currently in use:\\n')\n",
    "pprint(model.get_params())"
   ]
  },
  {
   "cell_type": "code",
   "execution_count": 29,
   "metadata": {},
   "outputs": [
    {
     "name": "stdout",
     "output_type": "stream",
     "text": [
      "model_AUC: 0.707\n",
      "model_accuracy: 0.653\n",
      "model_precision_score: 0.676\n",
      "model_recall_score: 0.597\n",
      "model_f1_score: 0.634\n"
     ]
    }
   ],
   "source": [
    "precision_score=precision_score(y_test,model_pred)\n",
    "recall_score=recall_score(y_test,model_pred)\n",
    "f1_score=f1_score(y_test,model_pred)\n",
    "accuracy_model=accuracy_score(y_test,model_pred)\n",
    "model_auc_value = roc_auc_score(y_test, model_probs)\n",
    "print('model_AUC: %.3f' % model_auc_value)\n",
    "print('model_accuracy: %.3f' % accuracy_model)\n",
    "print('model_precision_score: %.3f' % precision_score)\n",
    "print('model_recall_score: %.3f' % recall_score)\n",
    "print('model_f1_score: %.3f' % f1_score)"
   ]
  },
  {
   "cell_type": "code",
   "execution_count": 30,
   "metadata": {},
   "outputs": [
    {
     "name": "stdout",
     "output_type": "stream",
     "text": [
      "              precision    recall  f1-score   support\n",
      "\n",
      "           0       0.63      0.71      0.67      5951\n",
      "           1       0.68      0.60      0.63      6049\n",
      "\n",
      "    accuracy                           0.65     12000\n",
      "   macro avg       0.66      0.65      0.65     12000\n",
      "weighted avg       0.66      0.65      0.65     12000\n",
      "\n"
     ]
    }
   ],
   "source": [
    "from sklearn.metrics import classification_report\n",
    "print(classification_report(y_test, model_pred))"
   ]
  },
  {
   "cell_type": "code",
   "execution_count": 31,
   "metadata": {},
   "outputs": [
    {
     "name": "stdout",
     "output_type": "stream",
     "text": [
      "model_loss: 0.347\n"
     ]
    }
   ],
   "source": [
    "from sklearn.metrics import zero_one_loss\n",
    "model_loss=zero_one_loss(y_test,model_pred)\n",
    "print('model_loss: %.3f' % model_loss)"
   ]
  },
  {
   "cell_type": "code",
   "execution_count": 32,
   "metadata": {},
   "outputs": [
    {
     "name": "stdout",
     "output_type": "stream",
     "text": [
      "[[4223 1728]\n",
      " [2439 3610]]\n"
     ]
    }
   ],
   "source": [
    "from sklearn.metrics import confusion_matrix\n",
    "cm_model=confusion_matrix(y_test,model_pred)\n",
    "print(cm_model)"
   ]
  },
  {
   "cell_type": "code",
   "execution_count": 33,
   "metadata": {},
   "outputs": [
    {
     "data": {
      "text/html": [
       "<div>\n",
       "<style scoped>\n",
       "    .dataframe tbody tr th:only-of-type {\n",
       "        vertical-align: middle;\n",
       "    }\n",
       "\n",
       "    .dataframe tbody tr th {\n",
       "        vertical-align: top;\n",
       "    }\n",
       "\n",
       "    .dataframe thead th {\n",
       "        text-align: right;\n",
       "    }\n",
       "</style>\n",
       "<table border=\"1\" class=\"dataframe\">\n",
       "  <thead>\n",
       "    <tr style=\"text-align: right;\">\n",
       "      <th></th>\n",
       "      <th>feature</th>\n",
       "      <th>importance</th>\n",
       "    </tr>\n",
       "  </thead>\n",
       "  <tbody>\n",
       "    <tr>\n",
       "      <th>0</th>\n",
       "      <td>house_val</td>\n",
       "      <td>0.162260</td>\n",
       "    </tr>\n",
       "    <tr>\n",
       "      <th>1</th>\n",
       "      <td>car_prob</td>\n",
       "      <td>0.088897</td>\n",
       "    </tr>\n",
       "    <tr>\n",
       "      <th>2</th>\n",
       "      <td>gender_M</td>\n",
       "      <td>0.037952</td>\n",
       "    </tr>\n",
       "    <tr>\n",
       "      <th>15</th>\n",
       "      <td>online_Y</td>\n",
       "      <td>0.029941</td>\n",
       "    </tr>\n",
       "    <tr>\n",
       "      <th>41</th>\n",
       "      <td>region_South</td>\n",
       "      <td>0.027726</td>\n",
       "    </tr>\n",
       "  </tbody>\n",
       "</table>\n",
       "</div>"
      ],
      "text/plain": [
       "         feature  importance\n",
       "0      house_val    0.162260\n",
       "1       car_prob    0.088897\n",
       "2       gender_M    0.037952\n",
       "15      online_Y    0.029941\n",
       "41  region_South    0.027726"
      ]
     },
     "execution_count": 33,
     "metadata": {},
     "output_type": "execute_result"
    }
   ],
   "source": [
    "import pandas as pd\n",
    "features = list(X_train.columns)\n",
    "# Extract feature importances\n",
    "fi = pd.DataFrame({'feature': list(X_train.columns),\n",
    "                   'importance': model.feature_importances_}).\\\n",
    "                    sort_values('importance', ascending = False)\n",
    "fi.head()"
   ]
  },
  {
   "cell_type": "code",
   "execution_count": 34,
   "metadata": {},
   "outputs": [
    {
     "data": {
      "image/png": "[encoded data removed]",
      "text/plain": [
       "<Figure size 1080x360 with 2 Axes>"
      ]
     },
     "metadata": {
      "needs_background": "light"
     },
     "output_type": "display_data"
    }
   ],
   "source": [
    "fig, axs = plt.subplots(1,2,figsize=(15,5))\n",
    "#ROC_Curve\n",
    "fpr, tpr, thresholds = roc_curve(y_test,model_probs)\n",
    "axs[0].plot([0, 1], [0, 1], linestyle='--')\n",
    "axs[0].plot(fpr, tpr, marker='.')\n",
    "axs[0].set_xlabel('False Positive Rate', fontsize=16)\n",
    "axs[0].set_ylabel('True Positive Rate', fontsize=16)\n",
    "axs[0].set_title('model_ROC_curve', fontsize=16)\n",
    "#Precision_Recall_curve\n",
    "precision, recall, thresholds = precision_recall_curve(y_test, model_probs)\n",
    "axs[1].plot([0, 1], [0.5, 0.5], linestyle='--')\n",
    "axs[1].plot(recall, precision, marker='.')\n",
    "axs[1].set_xlabel('Recall', fontsize=16)\n",
    "axs[1].set_ylabel('Precision', fontsize=16)\n",
    "axs[1].set_title('Model_Precision_Recall_Curve', fontsize=16)\n",
    "plt.show()"
   ]
  },
  {
   "cell_type": "code",
   "execution_count": 35,
   "metadata": {},
   "outputs": [
    {
     "name": "stdout",
     "output_type": "stream",
     "text": [
      "{'bootstrap': [True, False],\n",
      " 'max_depth': [10, 20, 30, 40, 50, 60, 70, 80, 90, 100, 110, None],\n",
      " 'max_features': ['auto', 'sqrt'],\n",
      " 'min_samples_leaf': [1, 2, 4],\n",
      " 'min_samples_split': [2, 5, 10],\n",
      " 'n_estimators': [1, 56, 111, 167, 222, 278, 333, 389, 444, 500]}\n"
     ]
    }
   ],
   "source": [
    "#SETTING PARAMETERS:\n",
    "from sklearn.model_selection import RandomizedSearchCV\n",
    "# Number of trees in random forest\n",
    "n_estimators = [int(x) for x in np.linspace(start = 1, stop = 500, num = 10)]\n",
    "# Number of features to consider at every split\n",
    "max_features = ['auto', 'sqrt']\n",
    "# Maximum number of levels in tree\n",
    "max_depth = [int(x) for x in np.linspace(10, 110, num = 11)]\n",
    "max_depth.append(None)\n",
    "# Minimum number of samples required to split a node\n",
    "min_samples_split = [2, 5, 10]\n",
    "# Minimum number of samples required at each leaf node\n",
    "min_samples_leaf = [1, 2, 4]\n",
    "# Method of selecting samples for training each tree\n",
    "bootstrap = [True, False]\n",
    "# Create the random grid\n",
    "random_grid = {'n_estimators': n_estimators,\n",
    "               'max_features': max_features,\n",
    "               'max_depth': max_depth,\n",
    "               'min_samples_split': min_samples_split,\n",
    "               'min_samples_leaf': min_samples_leaf,\n",
    "               'bootstrap': bootstrap}\n",
    "pprint(random_grid)"
   ]
  },
  {
   "cell_type": "code",
   "execution_count": 36,
   "metadata": {},
   "outputs": [
    {
     "name": "stdout",
     "output_type": "stream",
     "text": [
      "Fitting 3 folds for each of 50 candidates, totalling 150 fits\n"
     ]
    },
    {
     "name": "stderr",
     "output_type": "stream",
     "text": [
      "[Parallel(n_jobs=-1)]: Using backend LokyBackend with 8 concurrent workers.\n",
      "[Parallel(n_jobs=-1)]: Done  25 tasks      | elapsed:  1.7min\n",
      "[Parallel(n_jobs=-1)]: Done 150 out of 150 | elapsed:  9.1min finished\n"
     ]
    },
    {
     "data": {
      "text/plain": [
       "RandomizedSearchCV(cv=3, error_score='raise-deprecating',\n",
       "                   estimator=RandomForestClassifier(bootstrap=True,\n",
       "                                                    class_weight=None,\n",
       "                                                    criterion='gini',\n",
       "                                                    max_depth=None,\n",
       "                                                    max_features='auto',\n",
       "                                                    max_leaf_nodes=None,\n",
       "                                                    min_impurity_decrease=0.0,\n",
       "                                                    min_impurity_split=None,\n",
       "                                                    min_samples_leaf=1,\n",
       "                                                    min_samples_split=2,\n",
       "                                                    min_weight_fraction_leaf=0.0,\n",
       "                                                    n_estimators='warn',\n",
       "                                                    n_jobs=None,\n",
       "                                                    oob_sc...\n",
       "                   iid='warn', n_iter=50, n_jobs=-1,\n",
       "                   param_distributions={'bootstrap': [True, False],\n",
       "                                        'max_depth': [10, 20, 30, 40, 50, 60,\n",
       "                                                      70, 80, 90, 100, 110,\n",
       "                                                      None],\n",
       "                                        'max_features': ['auto', 'sqrt'],\n",
       "                                        'min_samples_leaf': [1, 2, 4],\n",
       "                                        'min_samples_split': [2, 5, 10],\n",
       "                                        'n_estimators': [1, 56, 111, 167, 222,\n",
       "                                                         278, 333, 389, 444,\n",
       "                                                         500]},\n",
       "                   pre_dispatch='2*n_jobs', random_state=42, refit=True,\n",
       "                   return_train_score=False, scoring=None, verbose=2)"
      ]
     },
     "execution_count": 36,
     "metadata": {},
     "output_type": "execute_result"
    }
   ],
   "source": [
    "# Use the random grid to search for best hyperparameters\n",
    "# First create the base model to tune\n",
    "rf = RandomForestClassifier()\n",
    "# Random search of parameters, using 3 fold cross validation, \n",
    "# search across 100 different combinations, and use all available cores\n",
    "rf_random = RandomizedSearchCV(estimator = rf, param_distributions = random_grid, n_iter = 50, cv = 3, verbose=2, random_state=42, n_jobs = -1)\n",
    "# Fit the random search model\n",
    "rf_random.fit(X_train, y_train)"
   ]
  },
  {
   "cell_type": "code",
   "execution_count": 37,
   "metadata": {},
   "outputs": [
    {
     "data": {
      "text/plain": [
       "{'n_estimators': 167,\n",
       " 'min_samples_split': 10,\n",
       " 'min_samples_leaf': 4,\n",
       " 'max_features': 'sqrt',\n",
       " 'max_depth': 50,\n",
       " 'bootstrap': True}"
      ]
     },
     "execution_count": 37,
     "metadata": {},
     "output_type": "execute_result"
    }
   ],
   "source": [
    "rf_random.best_params_"
   ]
  },
  {
   "cell_type": "code",
   "execution_count": 38,
   "metadata": {},
   "outputs": [],
   "source": [
    "rf_pred = rf_random.predict(X_test)\n",
    "rf_probs = rf_random.predict_proba(X_test)[:, 1]"
   ]
  },
  {
   "cell_type": "code",
   "execution_count": 39,
   "metadata": {},
   "outputs": [
    {
     "name": "stdout",
     "output_type": "stream",
     "text": [
      "AUC_rf: 0.758\n",
      "accuracy_rf: 0.688\n",
      "precision_score_rf: 0.688\n",
      "recall_score:_rf 0.698\n",
      "f1_score_rf: 0.693\n"
     ]
    }
   ],
   "source": [
    "from sklearn.metrics import precision_score,recall_score,f1_score,roc_auc_score,accuracy_score\n",
    "precision_score_rf=precision_score(y_test,rf_pred)\n",
    "recall_score_rf=recall_score(y_test,rf_pred)\n",
    "f1_score_rf=f1_score(y_test,rf_pred)\n",
    "accuracy_rf=accuracy_score(y_test,rf_pred)\n",
    "rf_auc_value = roc_auc_score(y_test, rf_probs)\n",
    "print('AUC_rf: %.3f' % rf_auc_value)\n",
    "print('accuracy_rf: %.3f' % accuracy_rf)\n",
    "print('precision_score_rf: %.3f' % precision_score_rf)\n",
    "print('recall_score:_rf %.3f' % recall_score_rf)\n",
    "print('f1_score_rf: %.3f' % f1_score_rf)"
   ]
  },
  {
   "cell_type": "code",
   "execution_count": 40,
   "metadata": {},
   "outputs": [
    {
     "name": "stdout",
     "output_type": "stream",
     "text": [
      "rf_loss: 0.312\n"
     ]
    }
   ],
   "source": [
    "rf_loss=zero_one_loss(y_test,rf_pred)\n",
    "print('rf_loss: %.3f' % rf_loss)"
   ]
  },
  {
   "cell_type": "code",
   "execution_count": 41,
   "metadata": {},
   "outputs": [
    {
     "name": "stdout",
     "output_type": "stream",
     "text": [
      "[[4039 1912]\n",
      " [1827 4222]]\n"
     ]
    }
   ],
   "source": [
    "cm_rf=confusion_matrix(y_test,rf_pred)\n",
    "print(cm_rf)"
   ]
  },
  {
   "cell_type": "code",
   "execution_count": 42,
   "metadata": {},
   "outputs": [
    {
     "data": {
      "image/png": "[encoded data removed]",
      "text/plain": [
       "<Figure size 1080x360 with 2 Axes>"
      ]
     },
     "metadata": {
      "needs_background": "light"
     },
     "output_type": "display_data"
    }
   ],
   "source": [
    "fig, axs = plt.subplots(1,2,figsize=(15,5))\n",
    "#ROC_Curve_rf\n",
    "fpr_rf, tpr_rf, thresholds_rf = roc_curve(y_test,rf_probs)\n",
    "axs[0].plot([0, 1], [0, 1], linestyle='--')\n",
    "axs[0].plot(fpr_rf, tpr_rf, marker='.')\n",
    "axs[0].set_xlabel('False Positive Rate', fontsize=16)\n",
    "axs[0].set_ylabel('True Positive Rate', fontsize=16)\n",
    "axs[0].set_title('ROC_curve_rf', fontsize=16)\n",
    "#PRECISION_RECALL_CURVE_RF\n",
    "precision_rf, recall_rf, thresholds_rf = precision_recall_curve(y_test, rf_probs)\n",
    "axs[1].plot([0, 1], [0.5, 0.5], linestyle='--')\n",
    "axs[1].plot(recall_rf, precision_rf, marker='.')\n",
    "axs[1].set_xlabel('Recall', fontsize=16)\n",
    "axs[1].set_ylabel('Precision', fontsize=16)\n",
    "axs[1].set_title('Rf_Precision_Recall_Curve', fontsize=16)\n",
    "plt.show()"
   ]
  }
 ],
 "metadata": {
  "kernelspec": {
   "display_name": "Python 3",
   "language": "python",
   "name": "python3"
  },
  "language_info": {
   "codemirror_mode": {
    "name": "ipython",
    "version": 3
   },
   "file_extension": ".py",
   "mimetype": "text/x-python",
   "name": "python",
   "nbconvert_exporter": "python",
   "pygments_lexer": "ipython3",
   "version": "3.7.3"
  }
 },
 "nbformat": 4,
 "nbformat_minor": 2
}
